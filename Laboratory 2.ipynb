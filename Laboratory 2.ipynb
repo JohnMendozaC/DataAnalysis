{
 "cells": [
  {
   "cell_type": "markdown",
   "id": "3f55aa00",
   "metadata": {},
   "source": [
    "# Laboratory 2: Intro to Jupiter programming platform"
   ]
  },
  {
   "cell_type": "code",
   "execution_count": 38,
   "id": "cc743899",
   "metadata": {},
   "outputs": [
    {
     "data": {
      "text/plain": [
       "{'John': 5.0,\n",
       " 'Laura': 5.0,\n",
       " 'James': 3.5,\n",
       " 'Mafe': 4.5,\n",
       " 'Jose': 1.5,\n",
       " 'Tatiana': 4.0}"
      ]
     },
     "execution_count": 38,
     "metadata": {},
     "output_type": "execute_result"
    }
   ],
   "source": [
    "notas = {\"John\" : 5.0, \"Laura\" : 5.0, \"James\" : 3.5, \"Mafe\" : 4.5, \"Jose\" : 1.5, \"Tatiana\" : 4.0}\n",
    "notas"
   ]
  },
  {
   "cell_type": "code",
   "execution_count": 3,
   "id": "862d8880",
   "metadata": {},
   "outputs": [],
   "source": [
    "import csv\n",
    "with open('test.csv','w') as f:\n",
    "    for key in notas.keys():\n",
    "        f.write(\"%s,%s\\n\"%(key,notas[key]))"
   ]
  },
  {
   "cell_type": "code",
   "execution_count": 5,
   "id": "b3a61ea0",
   "metadata": {},
   "outputs": [],
   "source": [
    "import pandas as pd\n",
    "grades = pd.read_csv(\"test.csv\", usecols = [\"grade\"], squeeze = True)\n",
    "names = pd.read_csv(\"test.csv\", usecols = [\"name\"], squeeze = True)"
   ]
  },
  {
   "cell_type": "code",
   "execution_count": 6,
   "id": "2c1c3aab",
   "metadata": {},
   "outputs": [
    {
     "data": {
      "text/plain": [
       "0    5.0\n",
       "1    5.0\n",
       "2    3.5\n",
       "3    4.5\n",
       "Name: grade, dtype: float64"
      ]
     },
     "execution_count": 6,
     "metadata": {},
     "output_type": "execute_result"
    }
   ],
   "source": [
    "grades"
   ]
  },
  {
   "cell_type": "code",
   "execution_count": 7,
   "id": "0741bcc8",
   "metadata": {},
   "outputs": [
    {
     "data": {
      "text/plain": [
       "0     John\n",
       "1    Laura\n",
       "2    James\n",
       "3     Mafe\n",
       "Name: name, dtype: object"
      ]
     },
     "execution_count": 7,
     "metadata": {},
     "output_type": "execute_result"
    }
   ],
   "source": [
    "names"
   ]
  },
  {
   "cell_type": "code",
   "execution_count": 36,
   "id": "852b854b",
   "metadata": {},
   "outputs": [],
   "source": [
    "def returnSingleGrade(name):\n",
    "    noteName = notas[name]\n",
    "    sumNotes = 0\n",
    "    for note in grades:\n",
    "      sumNotes += note\n",
    "    middleNote = sumNotes/len(grades)\n",
    "    diferencia = grades.mean() - noteName\n",
    "    return \"Nota del estudiante: \" + str(noteName),\"Nota media de la clase: \" + str(middleNote),\"Distancia del alumno actual: \" + str(diferencia)\n",
    "\n",
    "\n",
    "def gradingCompare(name, mayor):\n",
    "    noteName = notas[name]\n",
    "    notes = []\n",
    "    if(mayor):\n",
    "        for key, value in notas.items():\n",
    "             if value > noteName:\n",
    "                notes.append(key) \n",
    "    else:\n",
    "        for key, value in notas.items():\n",
    "             if value < noteName:\n",
    "                notes.append(key)\n",
    "\n",
    "    return \"Nota de \" + str(name) + \" \" +str(noteName), \"Notas: \" + str(notes)"
   ]
  },
  {
   "cell_type": "code",
   "execution_count": 23,
   "id": "67838e1a",
   "metadata": {},
   "outputs": [
    {
     "data": {
      "text/plain": [
       "('Nota del estudiante: 5.0',\n",
       " 'Nota media de la clase: 4.5',\n",
       " 'Distancia del alumno actual: -0.5')"
      ]
     },
     "execution_count": 23,
     "metadata": {},
     "output_type": "execute_result"
    }
   ],
   "source": [
    "returnSingleGrade('John')"
   ]
  },
  {
   "cell_type": "code",
   "execution_count": 40,
   "id": "6ce3e598",
   "metadata": {},
   "outputs": [
    {
     "data": {
      "text/plain": [
       "('Nota de Tatiana 4.0', \"Notas: ['John', 'Laura', 'Mafe']\")"
      ]
     },
     "execution_count": 40,
     "metadata": {},
     "output_type": "execute_result"
    }
   ],
   "source": [
    "gradingCompare('Tatiana', True)"
   ]
  },
  {
   "cell_type": "code",
   "execution_count": null,
   "id": "bf0a0adf",
   "metadata": {},
   "outputs": [],
   "source": []
  }
 ],
 "metadata": {
  "kernelspec": {
   "display_name": "Python 3 (ipykernel)",
   "language": "python",
   "name": "python3"
  },
  "language_info": {
   "codemirror_mode": {
    "name": "ipython",
    "version": 3
   },
   "file_extension": ".py",
   "mimetype": "text/x-python",
   "name": "python",
   "nbconvert_exporter": "python",
   "pygments_lexer": "ipython3",
   "version": "3.9.7"
  }
 },
 "nbformat": 4,
 "nbformat_minor": 5
}
